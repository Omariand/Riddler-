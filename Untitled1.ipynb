{
 "cells": [
  {
   "cell_type": "code",
   "execution_count": 14,
   "id": "9b9b3933-00b7-4fc2-bd97-fd855f904ded",
   "metadata": {},
   "outputs": [],
   "source": [
    "import re\n",
    "from mailbox import linesep\n",
    "from time import time\n",
    "import time\n",
    "from time import *\n",
    "from time import sleep\n",
    "import datetime\n",
    "import random \n",
    "from random import choice \n",
    "import re\n",
    "import sys\n",
    "class Riddler: \n",
    "    def __init__(self):\n",
    "            \"\"\"This displays the players name.\n",
    "\n",
    "            Args:\n",
    "                player (str): Player name\n",
    "            Side effects:\n",
    "                displays an instance of the variable.\"\"\"\n",
    "            self.riddle_dict={}\n",
    "            expr = r\"\"\"\n",
    "            (?xm)\n",
    "            ^\n",
    "            (?:(?P<question_number>\\d(?:\\d)?\\.)\\s)\n",
    "            (?P<question>[^?\\n]+.\\s)\n",
    "            (?:(?P<answer>.+))\n",
    "            \"\"\"\n",
    "            riddle_list=read_riddle(\"riddles.txt\")\n",
    "            for riddle in riddle_list:\n",
    "                searchtxt=re.search(expr,riddle)\n",
    "                self.question_number=searchtxt.group(\"question_number\")\n",
    "                self.question=searchtxt.group(\"question\")\n",
    "                self.answer=searchtxt.group(\"answer\")\n",
    "                self.riddle_dict[self.question.strip()]=self.answer\n",
    "                \n",
    "\n",
    "            #add guesses to the init method and good guesses and bad guesses to be stored as a set\n",
    "            #make a dictionary of the riddle and then complies them \n",
    "            #dictionary may have easier functionality \n",
    "            #need to be stored somewhere, maybe list of tuples\n",
    "            #make riddle saying key\n",
    "            #make value the answer\n",
    "            #or make key the number\n",
    "            #value be the a tuple or index zero is riddle    \n",
    "            "
   ]
  },
  {
   "cell_type": "code",
   "execution_count": 15,
   "id": "59034a13-5ce7-471e-a8c3-3fabf29a1934",
   "metadata": {},
   "outputs": [],
   "source": [
    "def read_riddle(r_file):\n",
    "        \"\"\"This takes a text file and reads the text file, then converts the \n",
    "    lines of the text file which will return the riddle given\n",
    "    Args: \n",
    "        textfile\n",
    "    Returns:\n",
    "            Prints read riddle statement\"\"\"\n",
    "        \n",
    "        with open(r_file,\"r\",encoding=\"utf-8\") as f:\n",
    "            lines=[line.strip() for line in f.readlines()]\n",
    "        return lines "
   ]
  },
  {
   "cell_type": "code",
   "execution_count": 16,
   "id": "ba6a8bdd-8b40-45e5-8917-26dc91a2487f",
   "metadata": {},
   "outputs": [],
   "source": [
    "riddler_game=Riddler()"
   ]
  },
  {
   "cell_type": "code",
   "execution_count": 17,
   "id": "6c87dff6-432b-4f6f-9354-20bdc61c9e52",
   "metadata": {},
   "outputs": [
    {
     "data": {
      "text/plain": [
       "{'What has to be broken before you can use it?': 'Eggs',\n",
       " 'What is full of holes but still holds water?': 'Sponge',\n",
       " 'What is always in front of you but cant be seen?': 'The Future',\n",
       " 'The more of this there is, the less you see. What is it?': 'Darkness',\n",
       " 'What starts with T, ends with T, and has T in it?': 'Teapot',\n",
       " 'What goes all around the world but stays in a corner?': 'A Stamp',\n",
       " 'What has a face and two hands but no arms or legs?': 'A Clock',\n",
       " 'What goes up but never comes down?': 'Age',\n",
       " 'What is so fragile that saying its name breaks it?': 'Silence',\n",
       " 'What thrives when you feed it but dies when you water it?': 'A Fire'}"
      ]
     },
     "execution_count": 17,
     "metadata": {},
     "output_type": "execute_result"
    }
   ],
   "source": [
    "riddler_game.riddle_dict"
   ]
  },
  {
   "cell_type": "code",
   "execution_count": 5,
   "id": "68db2438-5487-4b17-b4f7-9d428c01efc9",
   "metadata": {},
   "outputs": [],
   "source": [
    "    def countdown(self):\n",
    "            m = input(\"Enter the time in minutes:\")\n",
    "            m=int(m)\n",
    "            total_seconds = m * 60\n",
    "            while total_seconds > 0:\n",
    "                timer = datetime.timedelta(seconds = total_seconds)\n",
    "                print(timer, end=\"\\r\")\n",
    "                if m > 3:\n",
    "                    print(\"I told you only 3 minutes! NO MORE THAN THAT\")\n",
    "                    break\n",
    "                sleep(1)\n",
    "                total_seconds-=1\n",
    "            print(\"Oh No! It looks like you've ran out of time.\\\n",
    "                    You set off the bomb Batman, lets see how you'll save Gotham now\")\n"
   ]
  },
  {
   "cell_type": "code",
   "execution_count": null,
   "id": "eecd481d-1944-40e9-9417-8fc6b422b102",
   "metadata": {},
   "outputs": [],
   "source": []
  },
  {
   "cell_type": "code",
   "execution_count": null,
   "id": "4bc9e04f-9d90-43e6-930a-2fd7265c5eba",
   "metadata": {},
   "outputs": [],
   "source": []
  },
  {
   "cell_type": "code",
   "execution_count": null,
   "id": "9e5d4087-91dd-4ec5-b97c-f27270b3f431",
   "metadata": {},
   "outputs": [],
   "source": [
    "#if we want to do timer\n",
    "\n",
    "\n",
    "def __init__(self, filename):\n",
    "        super().__init__(filename)    \n",
    "        self.start= None\n",
    "        self.curr= None\n",
    "    def start_timer()\n",
    "        start= time.now()\n",
    "    def end_timer()\n",
    "        diff= time.now -self.start\n",
    "        print(diff)\n",
    "    def get_time_elapsed():\n",
    "        time.now()- self.start\n",
    "        return z"
   ]
  }
 ],
 "metadata": {
  "interpreter": {
   "hash": "aee8b7b246df8f9039afb4144a1f6fd8d2ca17a180786b69acc140d282b71a49"
  },
  "kernelspec": {
   "display_name": "Python 3.10.2 64-bit",
   "language": "python",
   "name": "python3"
  },
  "language_info": {
   "codemirror_mode": {
    "name": "ipython",
    "version": 3
   },
   "file_extension": ".py",
   "mimetype": "text/x-python",
   "name": "python",
   "nbconvert_exporter": "python",
   "pygments_lexer": "ipython3",
   "version": "3.10.2"
  }
 },
 "nbformat": 4,
 "nbformat_minor": 5
}
