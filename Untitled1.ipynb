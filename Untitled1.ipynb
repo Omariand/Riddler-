{
 "cells": [
  {
   "cell_type": "code",
   "execution_count": 41,
   "id": "9b9b3933-00b7-4fc2-bd97-fd855f904ded",
   "metadata": {},
   "outputs": [],
   "source": [
    "import re\n",
    "class Riddler: \n",
    "    def __init__(self):\n",
    "            \"\"\"This displays the players name.\n",
    "\n",
    "            Args:\n",
    "                player (str): Player name\n",
    "            Side effects:\n",
    "                displays an instance of the variable.\"\"\"\n",
    "            self.riddle_dict={}\n",
    "            expr = r\"\"\"\n",
    "            (?xm)\n",
    "            ^\n",
    "            (?:(?P<question_number>\\d(?:\\d)?\\.)\\s)\n",
    "            (?P<question>[^?\\n]+.\\s)\n",
    "            (?:(?P<answer>.+))\n",
    "            \"\"\"\n",
    "            riddle_list=read_riddle(\"riddles.txt\")\n",
    "            for riddle in riddle_list:\n",
    "                searchtxt=re.search(expr,riddle)\n",
    "                self.question_number=searchtxt.group(\"question_number\")\n",
    "                self.question=searchtxt.group(\"question\")\n",
    "                self.answer=searchtxt.group(\"answer\")\n",
    "                self.riddle_dict[self.question.strip()]=self.answer\n",
    "                \n",
    "\n",
    "            #add guesses to the init method and good guesses and bad guesses to be stored as a set\n",
    "            #make a dictionary of the riddle and then complies them \n",
    "            #dictionary may have easier functionality \n",
    "            #need to be stored somewhere, maybe list of tuples\n",
    "            #make riddle saying key\n",
    "            #make value the answer\n",
    "            #or make key the number\n",
    "            #value be the a tuple or index zero is riddle    \n",
    "        "
   ]
  },
  {
   "cell_type": "code",
   "execution_count": 42,
   "id": "59034a13-5ce7-471e-a8c3-3fabf29a1934",
   "metadata": {},
   "outputs": [],
   "source": [
    "def read_riddle(r_file):\n",
    "        \"\"\"This takes a text file and reads the text file, then converts the \n",
    "    lines of the text file which will return the riddle given\n",
    "    Args: \n",
    "        textfile\n",
    "    Returns:\n",
    "            Prints read riddle statement\"\"\"\n",
    "        \n",
    "        with open(r_file,\"r\",encoding=\"utf-8\") as f:\n",
    "            lines=[line.strip() for line in f.readlines()]\n",
    "        return lines "
   ]
  },
  {
   "cell_type": "code",
   "execution_count": 43,
   "id": "ba6a8bdd-8b40-45e5-8917-26dc91a2487f",
   "metadata": {},
   "outputs": [],
   "source": [
    "riddler_game=Riddler()"
   ]
  },
  {
   "cell_type": "code",
   "execution_count": 44,
   "id": "6c87dff6-432b-4f6f-9354-20bdc61c9e52",
   "metadata": {},
   "outputs": [
    {
     "data": {
      "text/plain": [
       "{'What has to be broken before you can use it?': 'Eggs',\n",
       " 'What is full of holes but still holds water?': 'Sponge',\n",
       " 'What is always in front of you but can’t be seen?': 'The Future',\n",
       " 'The more of this there is, the less you see. What is it?': 'Darkness',\n",
       " 'What starts with T, ends with T, and has T in it?': 'Teapot',\n",
       " 'What goes all around the world but stays in a corner?': 'A Stamp',\n",
       " 'What has a face and two hands but no arms or legs?': 'A Clock',\n",
       " 'What goes up but never comes down?': 'Age',\n",
       " 'What is so fragile that saying its name breaks it?': 'Silence',\n",
       " 'What thrives when you feed it but dies when you water it?': 'A Fire'}"
      ]
     },
     "execution_count": 44,
     "metadata": {},
     "output_type": "execute_result"
    }
   ],
   "source": [
    "riddler_game.riddle_dict"
   ]
  },
  {
   "cell_type": "code",
   "execution_count": null,
   "id": "68db2438-5487-4b17-b4f7-9d428c01efc9",
   "metadata": {},
   "outputs": [],
   "source": []
  }
 ],
 "metadata": {
  "kernelspec": {
   "display_name": "Python 3.10.2 64-bit",
   "language": "python",
   "name": "python3102jvsc74a57bd0aee8b7b246df8f9039afb4144a1f6fd8d2ca17a180786b69acc140d282b71a49"
  },
  "language_info": {
   "codemirror_mode": {
    "name": "ipython",
    "version": 3
   },
   "file_extension": ".py",
   "mimetype": "text/x-python",
   "name": "python",
   "nbconvert_exporter": "python",
   "pygments_lexer": "ipython3",
   "version": "3.10.2"
  }
 },
 "nbformat": 4,
 "nbformat_minor": 5
}
